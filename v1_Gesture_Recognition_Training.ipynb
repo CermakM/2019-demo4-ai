{
 "cells": [
  {
   "cell_type": "markdown",
   "metadata": {},
   "source": [
    "## Gesture Recognition Training for Summit AI Demo\n",
    "\n",
    "* Read training data from S3\n",
    "* Combine multiple json files into single time-series.\n",
    "* Featurize time-series data\n",
    "* Train and test Random Forest model\n",
    "* Train and test Feed-Forward model\n",
    "* Save model for use by TF-Serve"
   ]
  },
  {
   "cell_type": "code",
   "execution_count": 1,
   "metadata": {
    "ExecuteTime": {
     "end_time": "2019-03-19T14:27:16.683603Z",
     "start_time": "2019-03-19T14:27:16.429409Z"
    }
   },
   "outputs": [],
   "source": [
    "%load_ext autoreload\n",
    "%autoreload 2\n",
    "%matplotlib inline"
   ]
  },
  {
   "cell_type": "code",
   "execution_count": 2,
   "metadata": {
    "ExecuteTime": {
     "end_time": "2019-03-19T14:27:18.342224Z",
     "start_time": "2019-03-19T14:27:16.686407Z"
    }
   },
   "outputs": [],
   "source": [
    "import s3fs\n",
    "import pandas as pd\n",
    "import numpy as np\n",
    "import scipy.stats\n",
    "import time\n",
    "import multiprocessing as mp\n",
    "from natsort import natsorted\n",
    "import json\n",
    "import matplotlib.pylab as plt\n",
    "\n",
    "from sklearn.ensemble import RandomForestClassifier\n",
    "from sklearn.model_selection import train_test_split\n",
    "from sklearn.metrics import confusion_matrix\n",
    "from sklearn.preprocessing import LabelEncoder, OneHotEncoder\n",
    "\n",
    "import tensorflow as tf\n",
    "\n",
    "from tensorflow import keras"
   ]
  },
  {
   "cell_type": "code",
   "execution_count": 3,
   "metadata": {
    "ExecuteTime": {
     "end_time": "2019-03-19T14:27:18.407277Z",
     "start_time": "2019-03-19T14:27:18.344338Z"
    }
   },
   "outputs": [],
   "source": [
    "def collect_featured_data_from_s3(path, fs, label):\n",
    "    top_dir = fs.ls(path)\n",
    "    data = []\n",
    "    \n",
    "    for files in top_dir:\n",
    "        # df = None\n",
    "        bottom_dir = natsorted(fs.ls(files))\n",
    "        df = combine_multiple_json(bottom_dir)\n",
    "        df = turn_jsons_into_joint_dataframe(df)\n",
    "        df = get_accleration_timeseries(df)\n",
    "        params = [df, label, np.arange(0,100,10)]\n",
    "        example = featurize(params)\n",
    "        data.append(example)\n",
    "        \n",
    "    return data # a list that has a featurized vector (as a dictioanry) for each folder in top_dir (each capture session)\n",
    "\n",
    "\n",
    "def mp_collect_featured_data_from_s3(path, fs, label):\n",
    "    top_dir = fs.ls(path)\n",
    "    data = []\n",
    "    data_params = []\n",
    "    \n",
    "    for files in top_dir:\n",
    "        # df = None\n",
    "        bottom_dir = natsorted(fs.ls(files))\n",
    "        df = combine_multiple_json(bottom_dir)\n",
    "        df = turn_jsons_into_joint_dataframe(df)\n",
    "        df = get_accleration_timeseries(df)\n",
    "        params = (df, label, np.arange(0,100,10))\n",
    "        data_params.append(params)\n",
    "        \n",
    "    #then = time.time()\n",
    "    pool = mp.Pool(processes=8)\n",
    "    data = pool.map(featurize,data_params)\n",
    "    #print((time.time()-then)/60, \"minutes\")\n",
    "        \n",
    "    return data # a list that has a featurized vector (as a dictioanry) for each folder in top_dir (each capture session)\n"
   ]
  },
  {
   "cell_type": "code",
   "execution_count": 4,
   "metadata": {
    "ExecuteTime": {
     "end_time": "2019-03-19T14:27:18.476282Z",
     "start_time": "2019-03-19T14:27:18.411224Z"
    }
   },
   "outputs": [],
   "source": [
    "def combine_multiple_json(bottom_dir):\n",
    "    \n",
    "    df = pd.DataFrame([])\n",
    "    obj = []\n",
    "    \n",
    "    for partial_json  in bottom_dir:\n",
    "        x = fs.open(partial_json)\n",
    "        data = x.read()\n",
    "        x.close()\n",
    "        temp = json.loads(data)\n",
    "        obj.append(temp['motion'])\n",
    "        \n",
    "    return obj # list of motion data in multiple json files representing one capture session\n",
    "\n",
    "def turn_jsons_into_joint_dataframe(a_list):\n",
    "    df = pd.DataFrame()\n",
    "    for item in a_list:\n",
    "        temp = pd.io.json.json_normalize(item)\n",
    "        df = df.append(temp, ignore_index=True, sort=False)\n",
    "        df = df.iloc[:,0:3]\n",
    "  \n",
    "    return df # 3xn dataframe of acceleration data  \n",
    "\n",
    "def get_accleration_timeseries(timeseries):\n",
    "    \n",
    "    timeseries = timeseries.apply((lambda x: x**2))\n",
    "    timeseries = timeseries.sum(axis=1)\n",
    "    timeseries = timeseries.apply(np.sqrt)\n",
    "    \n",
    "    return timeseries # 1xn Series \n",
    "\n",
    "def featurize(params):\n",
    "    ts = params[0]\n",
    "    label = params[1]\n",
    "    bins = params[2]\n",
    "    mean = np.mean(ts)\n",
    "    median = np.median(ts)\n",
    "    std = np.std(ts)\n",
    "    length = len(ts)\n",
    "    kurtosis = scipy.stats.kurtosis(ts)\n",
    "    \n",
    "    n,b,p = plt.hist(ts, bins=bins)\n",
    "    n = np.array(n)/float(np.sum(n)) #normalize i.e. fraction of entries in each bin\n",
    "    \n",
    "    if median == 0: \n",
    "        features = {'mean_over_median': 0, #dimensionless            \n",
    "                    'std_over_median': 0, #dimensionless            \n",
    "                    'length': length,\n",
    "                    'kurtosis': kurtosis, #already dimensionless by definition\n",
    "                   }\n",
    "        \n",
    "    else: \n",
    "        features = {'mean_over_median': mean/median, #dimensionless            \n",
    "            'std_over_median': std/median, #dimensionless            \n",
    "            'length': length,\n",
    "            'kurtosis': kurtosis, #already dimensionless by definition\n",
    "           }\n",
    "        \n",
    "    for i, val in enumerate(n):\n",
    "        features[f'binfrac_{i}'] = val\n",
    "    \n",
    "    features['label'] = label\n",
    "    \n",
    "    \n",
    "    return features\n",
    "    "
   ]
  },
  {
   "cell_type": "markdown",
   "metadata": {},
   "source": [
    "### Get Data\n",
    "\n",
    "Pull gesture data from S3 and convert it into a featurized representation. "
   ]
  },
  {
   "cell_type": "markdown",
   "metadata": {
    "ExecuteTime": {
     "end_time": "2019-03-19T12:05:06.429934Z",
     "start_time": "2019-03-19T12:05:05.296340Z"
    },
    "collapsed": true
   },
   "source": [
    "then = time.time()\n",
    "\n",
    "path_to_data = 'cchase-rh-demo-4/mock-server-data/motions/2019-02-27'\n",
    "fs = s3fs.S3FileSystem()\n",
    "gesture_O = mp_collect_featured_data_from_s3(path_to_data,fs, 'O')\n",
    "  \n",
    "print((time.time()-then)/60, \"minutes\")"
   ]
  },
  {
   "cell_type": "markdown",
   "metadata": {
    "ExecuteTime": {
     "end_time": "2019-03-19T12:05:06.440739Z",
     "start_time": "2019-03-19T12:05:03.383Z"
    },
    "collapsed": true
   },
   "source": [
    "then = time.time()\n",
    "\n",
    "path_to_data = 'cchase-rh-demo-4/mock-server-data/motions/2019-02-26'\n",
    "fs = s3fs.S3FileSystem()\n",
    "gesture_X = mp_collect_featured_data_from_s3(path_to_data,fs, 'X')\n",
    "  \n",
    "print((time.time()-then)/60, \"minutes\")"
   ]
  },
  {
   "cell_type": "markdown",
   "metadata": {
    "ExecuteTime": {
     "end_time": "2019-03-19T12:05:06.444198Z",
     "start_time": "2019-03-19T12:05:03.385Z"
    }
   },
   "source": [
    "df  ==  pd.DataFrame(gesture_Ogesture[:185] + gesture_X)"
   ]
  },
  {
   "cell_type": "markdown",
   "metadata": {},
   "source": [
    "Or load from local csv files"
   ]
  },
  {
   "cell_type": "code",
   "execution_count": 5,
   "metadata": {
    "ExecuteTime": {
     "end_time": "2019-03-19T14:27:18.561712Z",
     "start_time": "2019-03-19T14:27:18.480029Z"
    }
   },
   "outputs": [],
   "source": [
    "_train_df = pd.read_csv('data/accelerometer/xo/train.csv')\n",
    "_test_df = pd.read_csv('data/accelerometer/xo/test.csv')\n",
    "\n",
    "df = pd.concat((_test_df, _train_df))\n",
    "\n",
    "del _train_df\n",
    "del _test_df"
   ]
  },
  {
   "cell_type": "markdown",
   "metadata": {},
   "source": [
    "### Model Training\n",
    "\n",
    "Split the data for training and testing with both a Random Forest model and a Feed-Forward network. "
   ]
  },
  {
   "cell_type": "code",
   "execution_count": 6,
   "metadata": {
    "ExecuteTime": {
     "end_time": "2019-03-19T14:27:18.649047Z",
     "start_time": "2019-03-19T14:27:18.569982Z"
    }
   },
   "outputs": [],
   "source": [
    "df = df.dropna()"
   ]
  },
  {
   "cell_type": "code",
   "execution_count": 7,
   "metadata": {
    "ExecuteTime": {
     "end_time": "2019-03-19T14:27:18.710808Z",
     "start_time": "2019-03-19T14:27:18.659267Z"
    }
   },
   "outputs": [
    {
     "name": "stdout",
     "output_type": "stream",
     "text": [
      "train size = (276, 14)\n",
      "test size = (93, 14)\n",
      "O    139\n",
      "X    137\n",
      "Name: label, dtype: int64\n",
      "X    48\n",
      "O    45\n",
      "Name: label, dtype: int64\n"
     ]
    },
    {
     "name": "stderr",
     "output_type": "stream",
     "text": [
      "/home/macermak/.local/share/virtualenvs/2019-demo4-ai-FZCiEg3v/lib/python3.6/site-packages/sklearn/model_selection/_split.py:2179: FutureWarning: From version 0.21, test_size will always complement train_size unless both are specified.\n",
      "  FutureWarning)\n"
     ]
    }
   ],
   "source": [
    "train_df, test_df = train_test_split(df, train_size=0.75)\n",
    "print(f'train size = {train_df.shape}')\n",
    "print(f'test size = {test_df.shape}')\n",
    "\n",
    "print(train_df['label'].value_counts())\n",
    "print(test_df['label'].value_counts())"
   ]
  },
  {
   "cell_type": "code",
   "execution_count": 8,
   "metadata": {
    "ExecuteTime": {
     "end_time": "2019-03-19T14:27:18.803098Z",
     "start_time": "2019-03-19T14:27:18.717382Z"
    }
   },
   "outputs": [],
   "source": [
    "train_df = train_df.dropna()\n",
    "test_df = test_df.dropna()"
   ]
  },
  {
   "cell_type": "markdown",
   "metadata": {},
   "source": [
    "#### Random Forest (sklearn)"
   ]
  },
  {
   "cell_type": "code",
   "execution_count": 9,
   "metadata": {
    "ExecuteTime": {
     "end_time": "2019-03-19T14:27:19.267356Z",
     "start_time": "2019-03-19T14:27:18.810296Z"
    }
   },
   "outputs": [
    {
     "name": "stdout",
     "output_type": "stream",
     "text": [
      "train acc = 0.9710144927536232, test_acc = 0.8709677419354839\n"
     ]
    }
   ],
   "source": [
    "model = RandomForestClassifier(max_depth=5, n_estimators=100, n_jobs=10)\n",
    "\n",
    "model.fit(train_df.drop('label', axis=1), train_df['label'])\n",
    "\n",
    "train_pred = model.predict(train_df.drop('label', axis=1))\n",
    "train_labels = train_df['label']\n",
    "train_acc = np.sum(train_pred==train_labels) / len(train_pred)\n",
    "\n",
    "test_pred = model.predict(test_df.drop('label', axis=1))\n",
    "test_labels = test_df['label']\n",
    "test_acc = np.sum(test_pred==test_labels) / len(test_pred)\n",
    "\n",
    "print(f'train acc = {train_acc}, test_acc = {test_acc}')"
   ]
  },
  {
   "cell_type": "code",
   "execution_count": 10,
   "metadata": {
    "ExecuteTime": {
     "end_time": "2019-03-19T14:27:19.545976Z",
     "start_time": "2019-03-19T14:27:19.274920Z"
    }
   },
   "outputs": [
    {
     "data": {
      "text/plain": [
       "Text(0, 0.5, 'predicted')"
      ]
     },
     "execution_count": 10,
     "metadata": {},
     "output_type": "execute_result"
    },
    {
     "data": {
      "image/png": "[encoded data removed]",
      "text/plain": [
       "<Figure size 360x360 with 1 Axes>"
      ]
     },
     "metadata": {
      "needs_background": "light"
     },
     "output_type": "display_data"
    }
   ],
   "source": [
    "fig = plt.figure(figsize=(5,5))\n",
    "ax = plt.subplot()\n",
    "\n",
    "labels = list(test_df['label'].value_counts().index)\n",
    "\n",
    "confusion = confusion_matrix(test_labels, test_pred, labels=labels)\n",
    "ax.matshow(confusion)\n",
    "\n",
    "ax.set_xticks(range(len(labels)))\n",
    "ax.set_yticks(range(len(labels)))\n",
    "\n",
    "ax.set_xticklabels(labels, rotation=90);\n",
    "ax.set_yticklabels(labels);\n",
    "\n",
    "for i in range(len(labels)):\n",
    "    for j in range(len(labels)):        \n",
    "        ax.text(j, i, confusion[i,j], va='center', ha='center')\n",
    "        \n",
    "plt.xlabel('true')\n",
    "plt.ylabel('predicted')"
   ]
  },
  {
   "cell_type": "markdown",
   "metadata": {},
   "source": [
    "#### Feed-Forward (TF)"
   ]
  },
  {
   "cell_type": "code",
   "execution_count": 11,
   "metadata": {
    "ExecuteTime": {
     "end_time": "2019-03-19T14:27:19.610186Z",
     "start_time": "2019-03-19T14:27:19.548518Z"
    }
   },
   "outputs": [],
   "source": [
    "one_hot = np.array(train_df['label'])\n",
    "label_encoder = LabelEncoder()\n",
    "integer_encoder = label_encoder.fit_transform(one_hot)\n",
    "one_hot_encoder = OneHotEncoder(sparse=False,categories='auto')\n",
    "integer_encoder = integer_encoder.reshape(len(integer_encoder),1)\n",
    "train_label = one_hot_encoder.fit_transform(integer_encoder)\n",
    "\n",
    "one_hot = np.array(test_df['label'])\n",
    "label_encoder = LabelEncoder()\n",
    "integer_encoder = label_encoder.fit_transform(one_hot)\n",
    "one_hot_encoder = OneHotEncoder(sparse=False,categories='auto')\n",
    "integer_encoder = integer_encoder.reshape(len(integer_encoder),1)\n",
    "test_label = one_hot_encoder.fit_transform(integer_encoder)"
   ]
  },
  {
   "cell_type": "code",
   "execution_count": 12,
   "metadata": {
    "ExecuteTime": {
     "end_time": "2019-03-19T14:27:19.710514Z",
     "start_time": "2019-03-19T14:27:19.613433Z"
    }
   },
   "outputs": [
    {
     "name": "stdout",
     "output_type": "stream",
     "text": [
      "WARNING:tensorflow:From /home/macermak/.local/share/virtualenvs/2019-demo4-ai-FZCiEg3v/lib/python3.6/site-packages/tensorflow/python/ops/resource_variable_ops.py:435: colocate_with (from tensorflow.python.framework.ops) is deprecated and will be removed in a future version.\n",
      "Instructions for updating:\n",
      "Colocations handled automatically by placer.\n"
     ]
    }
   ],
   "source": [
    "# important caveats here.. if we want to export it to .h5, then we have to use\n",
    "# the keras.activations API instead of the tf.nn\n",
    "# (possible solution is to export model JSON and weights separately)\n",
    "model = keras.Sequential([\n",
    "    keras.layers.Dense(10, activation=keras.activations.relu, input_shape=(13,)),\n",
    "    keras.layers.Dense(2, activation=keras.activations.softmax)\n",
    "]) "
   ]
  },
  {
   "cell_type": "code",
   "execution_count": 13,
   "metadata": {
    "ExecuteTime": {
     "end_time": "2019-03-19T14:27:19.852087Z",
     "start_time": "2019-03-19T14:27:19.712562Z"
    }
   },
   "outputs": [],
   "source": [
    "optimizer = keras.optimizers.Adam(lr=1e-3)\n",
    "loss = keras.losses.binary_crossentropy\n",
    "metrics = ['accuracy']\n",
    "\n",
    "model.compile(optimizer=optimizer,  loss=loss, metrics=metrics)"
   ]
  },
  {
   "cell_type": "code",
   "execution_count": 14,
   "metadata": {
    "ExecuteTime": {
     "end_time": "2019-03-19T14:27:42.997656Z",
     "start_time": "2019-03-19T14:27:19.853838Z"
    }
   },
   "outputs": [
    {
     "name": "stdout",
     "output_type": "stream",
     "text": [
      "WARNING:tensorflow:From /home/macermak/.local/share/virtualenvs/2019-demo4-ai-FZCiEg3v/lib/python3.6/site-packages/tensorflow/python/ops/math_ops.py:3066: to_int32 (from tensorflow.python.ops.math_ops) is deprecated and will be removed in a future version.\n",
      "Instructions for updating:\n",
      "Use tf.cast instead.\n"
     ]
    }
   ],
   "source": [
    "history = model.fit( train_df.drop('label', axis=1), train_label, epochs=5000, batch_size=100, verbose=0)"
   ]
  },
  {
   "cell_type": "code",
   "execution_count": 15,
   "metadata": {
    "ExecuteTime": {
     "end_time": "2019-03-19T14:27:43.241757Z",
     "start_time": "2019-03-19T14:27:42.999440Z"
    }
   },
   "outputs": [
    {
     "data": {
      "image/png": "[encoded data removed]",
      "text/plain": [
       "<Figure size 432x288 with 1 Axes>"
      ]
     },
     "metadata": {
      "needs_background": "light"
     },
     "output_type": "display_data"
    }
   ],
   "source": [
    "plt.plot(history.history['acc'], label = 'train_accuracy',)\n",
    "plt.legend(bbox_to_anchor=(1.05, 1), loc='upper left', borderaxespad=0.)\n",
    "plt.show()"
   ]
  },
  {
   "cell_type": "code",
   "execution_count": 16,
   "metadata": {
    "ExecuteTime": {
     "end_time": "2019-03-19T14:27:43.351831Z",
     "start_time": "2019-03-19T14:27:43.246726Z"
    }
   },
   "outputs": [
    {
     "name": "stdout",
     "output_type": "stream",
     "text": [
      "93/93 [==============================] - 0s 492us/sample - loss: 0.3968 - acc: 0.8387\n",
      "Test accuracy: 0.83870965\n"
     ]
    }
   ],
   "source": [
    "test_loss, test_acc = model.evaluate(test_df.drop('label', axis=1), test_label)\n",
    "\n",
    "print('Test accuracy:', test_acc)"
   ]
  },
  {
   "cell_type": "markdown",
   "metadata": {},
   "source": [
    "#### Save Model for Use by TF-Serve"
   ]
  },
  {
   "cell_type": "code",
   "execution_count": 17,
   "metadata": {
    "ExecuteTime": {
     "end_time": "2019-03-19T14:27:44.395707Z",
     "start_time": "2019-03-19T14:27:43.353756Z"
    }
   },
   "outputs": [
    {
     "name": "stdout",
     "output_type": "stream",
     "text": [
      "rm: cannot remove 'models/pb/1553005663': No such file or directory\n",
      "WARNING:tensorflow:From <ipython-input-17-9589f38d282c>:24: simple_save (from tensorflow.python.saved_model.simple_save) is deprecated and will be removed in a future version.\n",
      "Instructions for updating:\n",
      "This function will only be available through the v1 compatibility library as tf.compat.v1.saved_model.simple_save.\n",
      "WARNING:tensorflow:From /home/macermak/.local/share/virtualenvs/2019-demo4-ai-FZCiEg3v/lib/python3.6/site-packages/tensorflow/python/saved_model/signature_def_utils_impl.py:205: build_tensor_info (from tensorflow.python.saved_model.utils_impl) is deprecated and will be removed in a future version.\n",
      "Instructions for updating:\n",
      "This function will only be available through the v1 compatibility library as tf.compat.v1.saved_model.utils.build_tensor_info or tf.compat.v1.saved_model.build_tensor_info.\n",
      "INFO:tensorflow:Assets added to graph.\n",
      "INFO:tensorflow:No assets to write.\n",
      "INFO:tensorflow:SavedModel written to: models/pb/1553005663/saved_model.pb\n",
      "\n",
      "Saved model:\n",
      "total 152\n",
      "-rw-r--r--. 1 macermak vpnusers 151017 Mar 19 15:27 saved_model.pb\n",
      "drwxr-xr-x. 2 macermak vpnusers   4096 Mar 19 15:27 variables\n",
      "\n",
      "Saved model:\n",
      "total 24\n",
      "-rw-r--r--. 1 macermak vpnusers 23504 Mar 19 15:27 saved_model.h5\n",
      "WARNING:tensorflow:This model was compiled with a Keras optimizer (<tensorflow.python.keras.optimizers.Adam object at 0x7fa33ab40278>) but is being saved in TensorFlow format with `save_weights`. The model's weights will be saved, but unlike with TensorFlow optimizers in the TensorFlow format the optimizer's state will not be saved.\n",
      "\n",
      "Consider using a TensorFlow optimizer from `tf.train`.\n",
      "WARNING:tensorflow:From /home/macermak/.local/share/virtualenvs/2019-demo4-ai-FZCiEg3v/lib/python3.6/site-packages/tensorflow/python/keras/engine/network.py:1436: update_checkpoint_state (from tensorflow.python.training.checkpoint_management) is deprecated and will be removed in a future version.\n",
      "Instructions for updating:\n",
      "Use tf.train.CheckpointManager to manage checkpoints rather than manually editing the Checkpoint proto.\n",
      "\n",
      "Saved model:\n",
      "total 16\n",
      "-rw-r--r--. 1 macermak vpnusers   77 Mar 19 15:27 checkpoint\n",
      "-rw-r--r--. 1 macermak vpnusers 3562 Mar 19 15:27 checkpoint.data-00000-of-00001\n",
      "-rw-r--r--. 1 macermak vpnusers  586 Mar 19 15:27 checkpoint.index\n",
      "-rw-r--r--. 1 macermak vpnusers 1085 Mar 19 15:27 saved_model_spec.json\n"
     ]
    }
   ],
   "source": [
    "import os\n",
    "from pathlib import Path\n",
    "from datetime import datetime as dt\n",
    "\n",
    "save = True\n",
    "ver = int(dt.now().timestamp())\n",
    "\n",
    "if save:\n",
    "    for fmt in ['pb', 'hdf5', 'json']:\n",
    "        # save model as hdf5\n",
    "        MODEL_DIR = f\"models/{fmt}\"\n",
    "        export_path = Path(MODEL_DIR, str(ver))\n",
    "\n",
    "        if fmt == 'pb':\n",
    "            # simple_save can not handle existing repository\n",
    "            !rm -r {export_path}\n",
    "\n",
    "            # Inspired by https://www.tensorflow.org/serving/tutorials/Serving_REST_simple\n",
    "            # to save model for TF-serving\n",
    "            tf.saved_model.simple_save(\n",
    "                tf.keras.backend.get_session(),\n",
    "                str(export_path),\n",
    "                inputs={'input_data': model.input},\n",
    "                outputs={t.name:t for t in model.outputs})\n",
    "            \n",
    "        elif fmt == 'hdf5':\n",
    "            # make sure directory exists\n",
    "            os.makedirs(export_path, exist_ok=True)\n",
    "            \n",
    "            model_path = Path(export_path, 'saved_model.h5') \n",
    "            \n",
    "            # hdf5\n",
    "            model.save(model_path)\n",
    "            \n",
    "        else:\n",
    "            # make sure directory exists\n",
    "            os.makedirs(export_path, exist_ok=True)\n",
    "            \n",
    "            # json\n",
    "            model_spec_path = Path(\n",
    "                export_path, 'saved_model_spec.json'\n",
    "            )\n",
    "            model_weights_path = Path(\n",
    "                export_path, 'checkpoint')\n",
    "            \n",
    "            model_spec_path.write_text(model.to_json(), encoding='utf-8')\n",
    "            model.save_weights(str(model_weights_path))\n",
    "\n",
    "        print('\\nSaved model:')\n",
    "        !ls -l {export_path}"
   ]
  },
  {
   "cell_type": "markdown",
   "metadata": {
    "ExecuteTime": {
     "end_time": "2019-03-19T13:18:33.098905Z",
     "start_time": "2019-03-19T13:18:32.584548Z"
    }
   },
   "source": [
    "#### demonstrate model loading from JSON"
   ]
  },
  {
   "cell_type": "code",
   "execution_count": 18,
   "metadata": {
    "ExecuteTime": {
     "end_time": "2019-03-19T14:27:44.748304Z",
     "start_time": "2019-03-19T14:27:44.409589Z"
    }
   },
   "outputs": [],
   "source": [
    "loaded_model = tf.keras.models.model_from_json(model_spec_path.read_text())\n",
    "\n",
    "loaded_model.load_weights(str(model_weights_path))\n",
    "loaded_model.compile(optimizer=optimizer, loss=loss, metrics=metrics)"
   ]
  },
  {
   "cell_type": "code",
   "execution_count": 19,
   "metadata": {
    "ExecuteTime": {
     "end_time": "2019-03-19T14:27:45.088423Z",
     "start_time": "2019-03-19T14:27:44.749952Z"
    }
   },
   "outputs": [
    {
     "name": "stdout",
     "output_type": "stream",
     "text": [
      "93/93 [==============================] - 0s 2ms/sample - loss: 0.3968 - acc: 0.8387\n",
      "Test accuracy: 0.83870965\n"
     ]
    }
   ],
   "source": [
    "test_loss, test_acc = loaded_model.evaluate(test_df.drop('label', axis=1), test_label)\n",
    "\n",
    "print('Test accuracy:', test_acc)"
   ]
  }
 ],
 "metadata": {
  "hide_input": false,
  "kernelspec": {
   "display_name": "Python 3",
   "language": "python",
   "name": "python3"
  },
  "language_info": {
   "codemirror_mode": {
    "name": "ipython",
    "version": 3
   },
   "file_extension": ".py",
   "mimetype": "text/x-python",
   "name": "python",
   "nbconvert_exporter": "python",
   "pygments_lexer": "ipython3",
   "version": "3.6.6"
  },
  "toc": {
   "base_numbering": 1,
   "nav_menu": {},
   "number_sections": true,
   "sideBar": true,
   "skip_h1_title": false,
   "title_cell": "Table of Contents",
   "title_sidebar": "Contents",
   "toc_cell": false,
   "toc_position": {},
   "toc_section_display": true,
   "toc_window_display": false
  },
  "varInspector": {
   "cols": {
    "lenName": 16,
    "lenType": 16,
    "lenVar": 40
   },
   "kernels_config": {
    "python": {
     "delete_cmd_postfix": "",
     "delete_cmd_prefix": "del ",
     "library": "var_list.py",
     "varRefreshCmd": "print(var_dic_list())"
    },
    "r": {
     "delete_cmd_postfix": ") ",
     "delete_cmd_prefix": "rm(",
     "library": "var_list.r",
     "varRefreshCmd": "cat(var_dic_list()) "
    }
   },
   "position": {
    "height": "233px",
    "left": "17.2969px",
    "right": "20px",
    "top": "119.969px",
    "width": "348px"
   },
   "types_to_exclude": [
    "module",
    "function",
    "builtin_function_or_method",
    "instance",
    "_Feature"
   ],
   "window_display": false
  }
 },
 "nbformat": 4,
 "nbformat_minor": 2
}
