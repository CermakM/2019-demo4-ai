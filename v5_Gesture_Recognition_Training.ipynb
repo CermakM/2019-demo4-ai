{
 "cells": [
  {
   "cell_type": "markdown",
   "metadata": {},
   "source": [
    "# AI DEMO - Summit -Tensorflow Dance Move Training\n",
    "\n",
    "This note book should be able to run on the OCP4 Demo Cluster by simply selecting \"Cell\" and then \"Run All\" at the top of the page.\n",
    "\n",
    "Running this notebook will:\n",
    "* Pull gesture data from S3\n",
    "* Preprocess the gesture data\n",
    "* Train a Tensorflow neural network model\n",
    "* Save the model for serving"
   ]
  },
  {
   "cell_type": "code",
   "execution_count": 1,
   "metadata": {
    "ExecuteTime": {
     "end_time": "2019-04-10T15:10:58.162513Z",
     "start_time": "2019-04-10T15:10:57.656264Z"
    }
   },
   "outputs": [],
   "source": [
    "%load_ext autoreload\n",
    "%autoreload 2\n",
    "%matplotlib inline"
   ]
  },
  {
   "cell_type": "code",
   "execution_count": 2,
   "metadata": {
    "ExecuteTime": {
     "end_time": "2019-04-10T15:11:00.595707Z",
     "start_time": "2019-04-10T15:10:58.169592Z"
    }
   },
   "outputs": [],
   "source": [
    "import json\n",
    "import time\n",
    "import os\n",
    "\n",
    "import itertools\n",
    "import joblib\n",
    "\n",
    "import s3fs\n",
    "\n",
    "import numpy as np\n",
    "import pandas as pd\n",
    "import scipy\n",
    "import scipy.stats\n",
    "\n",
    "import matplotlib as mpl\n",
    "import matplotlib.pylab as plt\n",
    "\n",
    "from pathlib import Path\n",
    "from datetime import datetime as dt\n",
    "\n",
    "from sklearn.model_selection import train_test_split\n",
    "from sklearn.metrics import confusion_matrix,classification_report\n",
    "from sklearn.preprocessing import LabelEncoder, OneHotEncoder, MinMaxScaler\n",
    "from sklearn.decomposition import PCA\n",
    "\n",
    "import tensorflow as tf\n",
    "from tensorflow import keras"
   ]
  },
  {
   "cell_type": "markdown",
   "metadata": {},
   "source": [
    "---"
   ]
  },
  {
   "cell_type": "code",
   "execution_count": 3,
   "metadata": {
    "ExecuteTime": {
     "end_time": "2019-04-10T15:11:00.645435Z",
     "start_time": "2019-04-10T15:11:00.598035Z"
    }
   },
   "outputs": [],
   "source": [
    "motion_cols = [\n",
    "    'acceleration_x', 'acceleration_y', 'acceleration_z',\n",
    "    'rotation_alpha', 'rotation_beta', 'rotation_gamma',\n",
    "]\n",
    "orientation_cols = ['alpha', 'beta', 'gamma']"
   ]
  },
  {
   "cell_type": "code",
   "execution_count": 4,
   "metadata": {
    "ExecuteTime": {
     "end_time": "2019-04-10T15:11:00.717576Z",
     "start_time": "2019-04-10T15:11:00.663230Z"
    }
   },
   "outputs": [],
   "source": [
    "def process_cross_data(data, *, bins: dict = None, method: str = None):\n",
    "    \"\"\"Process collection of raw examples.\n",
    "    \n",
    "    :returns: bins, DataFrame\n",
    "    \"\"\"\n",
    "    bins = bins or {}\n",
    "    gesture = 'draw-cross'\n",
    "    \n",
    "    data_processed = []\n",
    "    for ts, d in data.items(): #loop over each sample\n",
    "        df = pd.DataFrame([], columns = motion_cols + ['timestamp'] + orientation_cols)\n",
    "        \n",
    "        acc_data = pd.DataFrame([x['acceleration'] for elem in d for x in elem['motion']])\n",
    "        rot_data = pd.DataFrame([x['rotationRate'] for elem in d for x in elem['motion']])\n",
    "\n",
    "        df[motion_cols] = pd.concat([acc_data, rot_data], axis=1)\n",
    "        df['timestamp'] = pd.DataFrame(\n",
    "            [x['timestamp'] for elem in d for x in elem['motion']])\n",
    "\n",
    "        df = df \\\n",
    "            .sort_values('timestamp', ascending=True) \\\n",
    "            .drop('timestamp', axis=1)\n",
    "        \n",
    "        data_processed.append(df)\n",
    "    \n",
    "    data_clean = list(clean_data(data_processed))\n",
    "\n",
    "    col_bins, feature_df = featurize(\n",
    "        data_clean, label=gesture, col_bins=bins.get(gesture, None), method=method)\n",
    "    \n",
    "    return {gesture: col_bins}, feature_df"
   ]
  },
  {
   "cell_type": "code",
   "execution_count": 5,
   "metadata": {
    "ExecuteTime": {
     "end_time": "2019-04-10T15:11:00.821694Z",
     "start_time": "2019-04-10T15:11:00.724243Z"
    }
   },
   "outputs": [],
   "source": [
    "def process_motion_rotation(example: dict):\n",
    "    \"\"\"Process single raw example and returns dataframe.\n",
    "    \n",
    "    :returns: DataFrame\n",
    "    \"\"\"\n",
    "    motion = np.array(example['motion'])\n",
    "    orientation = np.array(example['orientation'])\n",
    "\n",
    "    # process motion data\n",
    "    df = pd.DataFrame([], columns = motion_cols + ['timestamp'] + orientation_cols)\n",
    "    \n",
    "    if len(motion) > 0:\n",
    "        if motion.shape[1] == 7: # incl. acc and rotational velocities\n",
    "            df[motion_cols + ['timestamp']] = pd.DataFrame(motion)\n",
    "            \n",
    "    # process orientation data\n",
    "    if len(orientation) > 0:\n",
    "        df[orientation_cols] = pd.DataFrame(orientation[:, :-1])\n",
    "\n",
    "    df = df \\\n",
    "        .sort_values('timestamp', ascending=True) \\\n",
    "        .drop('timestamp', axis=1)\n",
    "        \n",
    "    return df"
   ]
  },
  {
   "cell_type": "code",
   "execution_count": 6,
   "metadata": {
    "ExecuteTime": {
     "end_time": "2019-04-10T15:11:00.898196Z",
     "start_time": "2019-04-10T15:11:00.832841Z"
    }
   },
   "outputs": [],
   "source": [
    "def process_dance_data(data, *,\n",
    "                       bins: dict = None,\n",
    "                       method: str = None):\n",
    "    \"\"\"Process raw data into single dataframe.\n",
    "    \n",
    "    :returns: bins, DataFrame\n",
    "    \"\"\" \n",
    "    df = pd.DataFrame()\n",
    "    bins = bins or {}\n",
    "    \n",
    "    for gesture, d in data.items(): # loop over each dance type\n",
    "        data_clean = list(clean_data(\n",
    "            process_motion_rotation(example) for example in d))\n",
    "        \n",
    "        col_bins, feature_df = featurize(\n",
    "            data_clean, label=gesture, col_bins=bins.get(gesture, None), method=method)\n",
    "        \n",
    "        bins[gesture] = col_bins\n",
    "        \n",
    "        df = pd.concat([df, feature_df], axis=0, ignore_index=True)\n",
    "        \n",
    "    return bins, df"
   ]
  },
  {
   "cell_type": "code",
   "execution_count": 7,
   "metadata": {
    "ExecuteTime": {
     "end_time": "2019-04-10T15:11:00.955416Z",
     "start_time": "2019-04-10T15:11:00.901868Z"
    }
   },
   "outputs": [],
   "source": [
    "def clean_data(data: list) -> list:\n",
    "    \"\"\"Clean collection of dataframes.\"\"\"\n",
    "    def condition(df): return all(df[motion_cols].any()) and len(df) > 50\n",
    "    \n",
    "    return filter(condition, map(lambda df: df[motion_cols].dropna(), data))"
   ]
  },
  {
   "cell_type": "code",
   "execution_count": 8,
   "metadata": {
    "ExecuteTime": {
     "end_time": "2019-04-10T15:11:01.013314Z",
     "start_time": "2019-04-10T15:11:00.960633Z"
    }
   },
   "outputs": [],
   "source": [
    "def featurize(data, *, label: str = None, col_bins: dict = None, method: str = None):\n",
    "    \"\"\"Featurize.\"\"\"\n",
    "    col_bins = col_bins or {}\n",
    "\n",
    "    df = pd.DataFrame()\n",
    "    for idx, col in enumerate(motion_cols):\n",
    "        bins = col_bins.get(col, None)\n",
    "\n",
    "        if bins is None:\n",
    "            _, bins = find_bins(\n",
    "                np.concatenate([d[col] for d in data]), method=method)\n",
    "            col_bins[col] = bins\n",
    "\n",
    "        TAG = col.upper()\n",
    "\n",
    "        feature_list = []\n",
    "        for d in data:\n",
    "            ts = d[col]\n",
    "\n",
    "            mean = np.mean(ts)\n",
    "            median = np.median(ts)\n",
    "            std = np.std(ts)\n",
    "            length = len(ts)\n",
    "            kurtosis = scipy.stats.kurtosis(ts)\n",
    "\n",
    "            n,b = np.histogram(ts, bins=bins)\n",
    "            n = np.array(n)/float(np.sum(n)) #normalize i.e. fraction of entries in each bin\n",
    "\n",
    "            if median == 0: \n",
    "                features = {f'{TAG}_mean_over_median': 0, #dimensionless            \n",
    "                            f'{TAG}_std_over_median': 0, #dimensionless            \n",
    "                            f'{TAG}_length': length,\n",
    "                            f'{TAG}_kurtosis': kurtosis, #already dimensionless by definition\n",
    "                           }\n",
    "\n",
    "            else: \n",
    "                features = {f'{TAG}_mean_over_median': mean/median, #dimensionless            \n",
    "                    f'{TAG}_std_over_median': std/median, #dimensionless            \n",
    "                    f'{TAG}_length': length,\n",
    "                    f'{TAG}_kurtosis': kurtosis, #already dimensionless by definition\n",
    "                   }\n",
    "\n",
    "            for i, val in enumerate(n):\n",
    "                features[f'{TAG}_binfrac_{i}'] = val\n",
    "                \n",
    "            feature_list.append(features)\n",
    "\n",
    "        df = pd.concat([df, pd.DataFrame(feature_list)], axis=1)\n",
    "            \n",
    "    if label:\n",
    "        df['label'] = label\n",
    "        \n",
    "    return col_bins, df.to_sparse()"
   ]
  },
  {
   "cell_type": "code",
   "execution_count": 9,
   "metadata": {
    "ExecuteTime": {
     "end_time": "2019-04-10T15:11:01.060189Z",
     "start_time": "2019-04-10T15:11:01.015187Z"
    },
    "code_folding": []
   },
   "outputs": [],
   "source": [
    "def find_bins(x, method: str = None):\n",
    "    \"\"\"Find bin edges for histograms based on different methods.\"\"\"\n",
    "    if np.isscalar(x):\n",
    "        x = [x]\n",
    "\n",
    "    bins = method or mpl.rcParams['hist.bins']\n",
    "\n",
    "    # basic input validation\n",
    "    input_empty = np.size(x) == 0\n",
    "    \n",
    "    if input_empty:\n",
    "        x = [np.array([])]\n",
    "    else:\n",
    "        x = mpl.cbook._reshape_2D(x, 'x')\n",
    "\n",
    "    nx = len(x)  # number of datasets\n",
    "    w  = [None] * nx\n",
    "\n",
    "    xmin = np.inf\n",
    "    xmax = -np.inf\n",
    "    for xi in x:\n",
    "        if len(xi) > 0:\n",
    "            xmin = min(xmin, np.nanmin(xi))\n",
    "            xmax = max(xmax, np.nanmax(xi))\n",
    "    bin_range = (xmin, xmax)\n",
    "\n",
    "    # List to store all the top coordinates of the histograms\n",
    "    tops = []\n",
    "    mlast = None\n",
    "\n",
    "    hist_kwargs = dict(range=bin_range)\n",
    "\n",
    "    # Loop through datasets\n",
    "    for i in range(nx):\n",
    "        # this will automatically overwrite bins,\n",
    "        # so that each histogram uses the same bins\n",
    "        m, bins = np.histogram(x[i], bins, weights=w[i], **hist_kwargs)\n",
    "        m = m.astype(float)  # causes problems later if it's an int\n",
    "        tops.append(m)\n",
    "\n",
    "    return tops, bins"
   ]
  },
  {
   "cell_type": "code",
   "execution_count": 10,
   "metadata": {
    "ExecuteTime": {
     "end_time": "2019-04-10T15:11:01.117866Z",
     "start_time": "2019-04-10T15:11:01.061745Z"
    },
    "code_folding": []
   },
   "outputs": [],
   "source": [
    "def find_col_bins(data, method: str = None, export: str = None):\n",
    "    \"\"\"Find bins for every column in the data. Optinally exports as JSON.\"\"\"\n",
    "    data = list(data)\n",
    "\n",
    "    df = pd.DataFrame()\n",
    "    col_bins = {}\n",
    "    \n",
    "    for idx, col in enumerate(motion_cols):\n",
    "        bins = col_bins.get(col, None)\n",
    "\n",
    "        if bins is None:\n",
    "            _, bins = find_bins(\n",
    "                np.concatenate([d[col] for d in data]), method=method)\n",
    "            col_bins[col] = bins\n",
    "            \n",
    "    if export:\n",
    "        bins_export = Path(export)\n",
    "        bins_export.parent.mkdir(parents=True, exist_ok=True)\n",
    "\n",
    "        bins_export.write_text(json.dumps({\n",
    "            col: bins.tolist() for col, bins in col_bins.items()\n",
    "        }))\n",
    "    \n",
    "    return col_bins"
   ]
  },
  {
   "cell_type": "markdown",
   "metadata": {},
   "source": [
    "---"
   ]
  },
  {
   "cell_type": "markdown",
   "metadata": {},
   "source": [
    "### Data Loading"
   ]
  },
  {
   "cell_type": "code",
   "execution_count": 11,
   "metadata": {
    "ExecuteTime": {
     "end_time": "2019-04-10T15:11:01.160171Z",
     "start_time": "2019-04-10T15:11:01.121221Z"
    }
   },
   "outputs": [],
   "source": [
    "def get_raw_data(fs, path, debug=False):\n",
    "    '''Reads raw data from S3 - not parallelized\n",
    "    '''\n",
    "    data = {}\n",
    "    \n",
    "    gestures_paths = fs.ls(path)\n",
    "    \n",
    "    for gesture in gestures_paths:\n",
    "        files_to_read = fs.ls(gesture)\n",
    "    \n",
    "        key = gesture.split('/')[-1] \n",
    "        data[key] = []\n",
    "        if debug:\n",
    "            print(key)\n",
    "    \n",
    "        for file in files_to_read:\n",
    "            with fs.open(file) as f:\n",
    "                content = json.loads(f.read())\n",
    "            data[key].append(content)\n",
    "    \n",
    "    return data"
   ]
  },
  {
   "cell_type": "code",
   "execution_count": 12,
   "metadata": {
    "ExecuteTime": {
     "end_time": "2019-04-10T15:11:01.263988Z",
     "start_time": "2019-04-10T15:11:01.162326Z"
    }
   },
   "outputs": [],
   "source": [
    "fs = s3fs.S3FileSystem()"
   ]
  },
  {
   "cell_type": "code",
   "execution_count": 13,
   "metadata": {
    "ExecuteTime": {
     "end_time": "2019-04-10T15:11:01.318573Z",
     "start_time": "2019-04-10T15:11:01.265947Z"
    }
   },
   "outputs": [],
   "source": [
    "path_to_dance_data = 'cchase-rh-demo-4/training-data'\n",
    "path_to_cross_data = 'cchase-rh-demo-4/mock-server-data/motions/2019-02-26'"
   ]
  },
  {
   "cell_type": "code",
   "execution_count": null,
   "metadata": {
    "ExecuteTime": {
     "end_time": "2019-04-10T15:11:02.417710Z",
     "start_time": "2019-04-10T15:11:01.323571Z"
    }
   },
   "outputs": [],
   "source": [
    "data_dance_raw = get_raw_data(fs, path_to_dance_data, debug=False)\n",
    "data_cross_raw = get_raw_data(fs, path_to_cross_data, debug=False)"
   ]
  },
  {
   "cell_type": "markdown",
   "metadata": {},
   "source": [
    "or"
   ]
  },
  {
   "cell_type": "code",
   "execution_count": 15,
   "metadata": {
    "ExecuteTime": {
     "end_time": "2019-04-10T15:11:32.967750Z",
     "start_time": "2019-04-10T15:11:31.174949Z"
    }
   },
   "outputs": [],
   "source": [
    "data_dance_raw = json.loads(Path('data/dance/data_dance_raw.json').read_text())\n",
    "data_cross_raw = json.loads(Path('data/dance/data_cross_raw.json').read_text())"
   ]
  },
  {
   "cell_type": "code",
   "execution_count": 16,
   "metadata": {
    "ExecuteTime": {
     "end_time": "2019-04-10T15:12:37.408344Z",
     "start_time": "2019-04-10T15:11:32.970325Z"
    }
   },
   "outputs": [],
   "source": [
    "# For training\n",
    "\n",
    "bins_dance, dance_data = process_dance_data(data_dance_raw)\n",
    "bins_cross, cross_data = process_cross_data(data_cross_raw)\n",
    "\n",
    "bins = {**bins_dance, **bins_cross}\n",
    "\n",
    "df = pd.concat([dance_data, cross_data], axis=0, ignore_index=True)"
   ]
  },
  {
   "cell_type": "code",
   "execution_count": 17,
   "metadata": {
    "ExecuteTime": {
     "end_time": "2019-04-10T15:12:37.650934Z",
     "start_time": "2019-04-10T15:12:37.413208Z"
    }
   },
   "outputs": [
    {
     "data": {
      "text/plain": [
       "draw-cross     185\n",
       "roll           137\n",
       "shake          136\n",
       "fever          123\n",
       "draw-circle    121\n",
       "floss          110\n",
       "Name: label, dtype: int64"
      ]
     },
     "execution_count": 17,
     "metadata": {},
     "output_type": "execute_result"
    }
   ],
   "source": [
    "df = df[~df['label'].isin(['draw-triangle'])]\n",
    "\n",
    "df['label'].value_counts()"
   ]
  },
  {
   "cell_type": "code",
   "execution_count": 18,
   "metadata": {
    "ExecuteTime": {
     "end_time": "2019-04-10T15:12:38.074345Z",
     "start_time": "2019-04-10T15:12:37.667148Z"
    }
   },
   "outputs": [],
   "source": [
    "np.random.seed(42)\n",
    "\n",
    "train_df, test_df = train_test_split(df, stratify=df['label'], test_size=0.20)"
   ]
  },
  {
   "cell_type": "code",
   "execution_count": 19,
   "metadata": {
    "ExecuteTime": {
     "end_time": "2019-04-10T15:12:38.250355Z",
     "start_time": "2019-04-10T15:12:38.090354Z"
    }
   },
   "outputs": [],
   "source": [
    "train_label = np.array(train_df['label'])\n",
    "test_label = np.array(test_df['label'])\n",
    "\n",
    "label_encoder = LabelEncoder()\n",
    "one_hot_encoder = OneHotEncoder(sparse=False,categories='auto')\n",
    "\n",
    "train_integer = label_encoder.fit_transform(train_label)\n",
    "train_onehot = one_hot_encoder.fit_transform(train_integer.reshape(len(train_integer), 1))\n",
    "\n",
    "test_integer = label_encoder.transform(test_label)\n",
    "test_onehot = one_hot_encoder.transform(test_integer.reshape(len(test_integer), 1))"
   ]
  },
  {
   "cell_type": "code",
   "execution_count": 20,
   "metadata": {
    "ExecuteTime": {
     "end_time": "2019-04-10T15:13:56.629684Z",
     "start_time": "2019-04-10T15:12:38.254906Z"
    }
   },
   "outputs": [
    {
     "name": "stdout",
     "output_type": "stream",
     "text": [
      "WARNING:tensorflow:From /home/macermak/.local/share/virtualenvs/2019-demo4-ai-FZCiEg3v/lib/python3.6/site-packages/tensorflow/python/ops/resource_variable_ops.py:435: colocate_with (from tensorflow.python.framework.ops) is deprecated and will be removed in a future version.\n",
      "Instructions for updating:\n",
      "Colocations handled automatically by placer.\n",
      "WARNING:tensorflow:From /home/macermak/.local/share/virtualenvs/2019-demo4-ai-FZCiEg3v/lib/python3.6/site-packages/tensorflow/python/keras/layers/core.py:143: calling dropout (from tensorflow.python.ops.nn_ops) with keep_prob is deprecated and will be removed in a future version.\n",
      "Instructions for updating:\n",
      "Please use `rate` instead of `keep_prob`. Rate should be set to `rate = 1 - keep_prob`.\n",
      "Epoch 1/15\n",
      "200/200 [==============================] - 5s 27ms/step - loss: 1.7257 - acc: 0.3063\n",
      "Epoch 2/15\n",
      "200/200 [==============================] - 5s 25ms/step - loss: 1.3967 - acc: 0.4875\n",
      "Epoch 3/15\n",
      "200/200 [==============================] - 5s 24ms/step - loss: 1.0740 - acc: 0.6574: 1s - loss: 1\n",
      "Epoch 4/15\n",
      "200/200 [==============================] - 5s 25ms/step - loss: 0.7633 - acc: 0.7989\n",
      "Epoch 5/15\n",
      "200/200 [==============================] - 5s 24ms/step - loss: 0.5589 - acc: 0.8779\n",
      "Epoch 6/15\n",
      "200/200 [==============================] - 5s 25ms/step - loss: 0.4258 - acc: 0.9154\n",
      "Epoch 7/15\n",
      "200/200 [==============================] - 6s 29ms/step - loss: 0.3304 - acc: 0.9343\n",
      "Epoch 8/15\n",
      "200/200 [==============================] - 5s 25ms/step - loss: 0.2483 - acc: 0.9508\n",
      "Epoch 9/15\n",
      "200/200 [==============================] - 5s 25ms/step - loss: 0.1942 - acc: 0.9620: 0s - loss: 0.1943 - acc: 0.962\n",
      "Epoch 10/15\n",
      "200/200 [==============================] - 5s 25ms/step - loss: 0.1616 - acc: 0.9689\n",
      "Epoch 11/15\n",
      "200/200 [==============================] - 5s 26ms/step - loss: 0.1352 - acc: 0.9747: 1s - loss\n",
      "Epoch 12/15\n",
      "200/200 [==============================] - 5s 25ms/step - loss: 0.1160 - acc: 0.9792\n",
      "Epoch 13/15\n",
      "200/200 [==============================] - 5s 26ms/step - loss: 0.0988 - acc: 0.9821: 0s - loss: 0.0992 - ac\n",
      "Epoch 14/15\n",
      "200/200 [==============================] - 5s 23ms/step - loss: 0.0847 - acc: 0.9845\n",
      "Epoch 15/15\n",
      "200/200 [==============================] - 5s 24ms/step - loss: 0.0722 - acc: 0.9870\n"
     ]
    }
   ],
   "source": [
    "model = keras.Sequential([\n",
    "    keras.layers.Dense(30, activation=tf.nn.sigmoid, input_shape=(84,)),\n",
    "    keras.layers.Dropout(0.05, seed=42),\n",
    "    keras.layers.Dense(6, activation=tf.nn.log_softmax)\n",
    "]) \n",
    "\n",
    "optimizer = keras.optimizers.Adam(lr=1e-3)\n",
    "loss      = tf.nn.softmax_cross_entropy_with_logits_v2\n",
    "metrics   = ['accuracy']\n",
    "\n",
    "model.compile(optimizer=optimizer,  loss=loss, metrics=metrics)\n",
    "\n",
    "history = model.fit( train_df.drop('label', axis=1), train_onehot, epochs=15, steps_per_epoch=200, verbose=1)"
   ]
  },
  {
   "cell_type": "code",
   "execution_count": 21,
   "metadata": {
    "ExecuteTime": {
     "end_time": "2019-04-10T15:13:56.965598Z",
     "start_time": "2019-04-10T15:13:56.635109Z"
    }
   },
   "outputs": [
    {
     "name": "stdout",
     "output_type": "stream",
     "text": [
      "163/163 [==============================] - 0s 816us/sample - loss: 0.1802 - acc: 0.9387\n",
      "Test accuracy: 0.9386503\n"
     ]
    }
   ],
   "source": [
    "test_loss, test_acc = model.evaluate(test_df.drop('label', axis=1).values, test_onehot)\n",
    "\n",
    "print('Test accuracy:', test_acc)"
   ]
  },
  {
   "cell_type": "code",
   "execution_count": 22,
   "metadata": {
    "ExecuteTime": {
     "end_time": "2019-04-10T15:13:57.849449Z",
     "start_time": "2019-04-10T15:13:56.975440Z"
    }
   },
   "outputs": [
    {
     "data": {
      "text/plain": [
       "Text(0, 0.5, 'predicted')"
      ]
     },
     "execution_count": 22,
     "metadata": {},
     "output_type": "execute_result"
    },
    {
     "data": {
      "image/png": "[encoded data removed]",
      "text/plain": [
       "<Figure size 360x360 with 1 Axes>"
      ]
     },
     "metadata": {
      "needs_background": "light"
     },
     "output_type": "display_data"
    }
   ],
   "source": [
    "y_hat = model.predict(test_df.drop('label', axis=1).values)\n",
    "y_hat = y_hat.argmax(axis=1)\n",
    "y_hat = label_encoder.inverse_transform(y_hat)\n",
    "\n",
    "fig = plt.figure(figsize=(5,5))\n",
    "ax = plt.subplot()\n",
    "\n",
    "labels = list(test_df['label'].value_counts().index)\n",
    "\n",
    "confusion = confusion_matrix(test_label, y_hat, labels=labels)\n",
    "ax.matshow(confusion)\n",
    "\n",
    "ax.set_xticks(range(len(labels)))\n",
    "ax.set_yticks(range(len(labels)))\n",
    "\n",
    "ax.set_xticklabels(labels, rotation=90);\n",
    "ax.set_yticklabels(labels);\n",
    "\n",
    "for i in range(len(labels)):\n",
    "    for j in range(len(labels)):        \n",
    "        ax.text(j, i, confusion[i,j], va='center', ha='center')\n",
    "        \n",
    "plt.xlabel('true')\n",
    "plt.ylabel('predicted')"
   ]
  },
  {
   "cell_type": "code",
   "execution_count": 23,
   "metadata": {
    "ExecuteTime": {
     "end_time": "2019-04-10T15:13:57.949311Z",
     "start_time": "2019-04-10T15:13:57.857762Z"
    }
   },
   "outputs": [
    {
     "name": "stdout",
     "output_type": "stream",
     "text": [
      "              precision    recall  f1-score   support\n",
      "\n",
      "  draw-cross       1.00      0.97      0.99        37\n",
      "        roll       0.97      1.00      0.98        28\n",
      "       shake       1.00      0.85      0.92        27\n",
      "       fever       0.83      0.96      0.89        25\n",
      " draw-circle       0.92      0.96      0.94        24\n",
      "       floss       0.90      0.86      0.88        22\n",
      "\n",
      "   micro avg       0.94      0.94      0.94       163\n",
      "   macro avg       0.94      0.93      0.93       163\n",
      "weighted avg       0.94      0.94      0.94       163\n",
      "\n"
     ]
    }
   ],
   "source": [
    "print(classification_report(test_label, y_hat, labels=labels))"
   ]
  },
  {
   "cell_type": "code",
   "execution_count": null,
   "metadata": {
    "ExecuteTime": {
     "end_time": "2019-04-10T15:11:02.453748Z",
     "start_time": "2019-04-10T15:10:58.057Z"
    }
   },
   "outputs": [],
   "source": [
    "save = True\n",
    "ver = int(dt.now().timestamp())\n",
    "\n",
    "if save:\n",
    "    # export column bins\n",
    "    bins_export = Path('models/v5/bins.json')\n",
    "    bins_export.parent.mkdir(parents=True, exist_ok=True)\n",
    "\n",
    "    bins_export.write_text(json.dumps({\n",
    "        gesture: {\n",
    "            col: bins.tolist() for col, bins in col_bin.items()\n",
    "        } for gesture, col_bin in bins.items()\n",
    "    }))\n",
    "    \n",
    "    # export encoder\n",
    "    joblib.dump(label_encoder, 'models/v5/encoder.joblib')\n",
    "    \n",
    "    for fmt in ['pb', 'hdf5', 'json']:\n",
    "        # save model as hdf5\n",
    "        MODEL_DIR = f\"models/v5/{fmt}\"\n",
    "        export_path = Path(MODEL_DIR, str(ver))\n",
    "\n",
    "        if fmt == 'pb':\n",
    "            # simple_save can not handle existing repository\n",
    "            !rm -r {export_path}\n",
    "\n",
    "            # Inspired by https://www.tensorflow.org/serving/tutorials/Serving_REST_simple\n",
    "            # to save model for TF-serving\n",
    "            tf.saved_model.simple_save(\n",
    "                tf.keras.backend.get_session(),\n",
    "                str(export_path),\n",
    "                inputs={'input_data': model.input},\n",
    "                outputs={t.name:t for t in model.outputs})\n",
    "            \n",
    "        elif fmt == 'hdf5':\n",
    "            # make sure directory exists\n",
    "            os.makedirs(export_path, exist_ok=True)\n",
    "            \n",
    "            model_path = Path(export_path, 'saved_model.h5') \n",
    "            \n",
    "            # hdf5\n",
    "            model.save(model_path)\n",
    "            \n",
    "        else:\n",
    "            # make sure directory exists\n",
    "            os.makedirs(export_path, exist_ok=True)\n",
    "            \n",
    "            # json\n",
    "            model_spec_path = Path(\n",
    "                export_path, 'saved_model_spec.json'\n",
    "            )\n",
    "            model_weights_path = Path(\n",
    "                export_path, 'checkpoint')\n",
    "            \n",
    "            model_spec_path.write_text(model.to_json(), encoding='utf-8')\n",
    "            model.save_weights(str(model_weights_path))\n",
    "\n",
    "        print('\\nSaved model:')\n",
    "        !ls -l {export_path}"
   ]
  },
  {
   "cell_type": "markdown",
   "metadata": {},
   "source": [
    "## Prediction"
   ]
  },
  {
   "cell_type": "markdown",
   "metadata": {},
   "source": [
    "### Local"
   ]
  },
  {
   "cell_type": "code",
   "execution_count": 24,
   "metadata": {
    "ExecuteTime": {
     "end_time": "2019-04-10T15:14:08.063014Z",
     "start_time": "2019-04-10T15:14:05.382723Z"
    }
   },
   "outputs": [
    {
     "name": "stdout",
     "output_type": "stream",
     "text": [
      "{\n",
      "    \"payload\": [\n",
      "        {\n",
      "            \"candidate\": \"floss\",\n",
      "            \"candidate_score\": 0.9237101078033447,\n",
      "            \"predictions\": {\n",
      "                \"draw-circle\": 0.0021675480529665947,\n",
      "                \"draw-cross\": 0.008985825814306736,\n",
      "                \"fever\": 0.051649272441864014,\n",
      "                \"floss\": 0.9237101078033447,\n",
      "                \"roll\": 0.01318399515002966,\n",
      "                \"shake\": 0.0003031643573194742\n",
      "            }\n",
      "        },\n",
      "        {\n",
      "            \"candidate\": \"floss\",\n",
      "            \"candidate_score\": 0.9088186025619507,\n",
      "            \"predictions\": {\n",
      "                \"draw-circle\": 0.0003327102167531848,\n",
      "                \"draw-cross\": 0.06489600241184235,\n",
      "                \"fever\": 0.023357123136520386,\n",
      "                \"floss\": 0.9088186025619507,\n",
      "                \"roll\": 0.0023433221504092216,\n",
      "                \"shake\": 0.00025227564037777483\n",
      "            }\n",
      "        },\n",
      "        {\n",
      "            \"candidate\": \"floss\",\n",
      "            \"candidate_score\": 0.9864218831062317,\n",
      "            \"predictions\": {\n",
      "                \"draw-circle\": 1.5613939467584714e-05,\n",
      "                \"draw-cross\": 0.005403807386755943,\n",
      "                \"fever\": 0.004305041860789061,\n",
      "                \"floss\": 0.9864218831062317,\n",
      "                \"roll\": 0.0037829310167580843,\n",
      "                \"shake\": 7.07665822119452e-05\n",
      "            }\n",
      "        },\n",
      "        {\n",
      "            \"candidate\": \"floss\",\n",
      "            \"candidate_score\": 0.9481664299964905,\n",
      "            \"predictions\": {\n",
      "                \"draw-circle\": 0.0001348816731479019,\n",
      "                \"draw-cross\": 0.005603131838142872,\n",
      "                \"fever\": 0.0020073051564395428,\n",
      "                \"floss\": 0.9481664299964905,\n",
      "                \"roll\": 0.044020503759384155,\n",
      "                \"shake\": 6.778047827538103e-05\n",
      "            }\n",
      "        },\n",
      "        {\n",
      "            \"candidate\": \"roll\",\n",
      "            \"candidate_score\": 0.8253676891326904,\n",
      "            \"predictions\": {\n",
      "                \"draw-circle\": 0.09391888976097107,\n",
      "                \"draw-cross\": 0.006716265808790922,\n",
      "                \"fever\": 0.021798301488161087,\n",
      "                \"floss\": 0.05196782946586609,\n",
      "                \"roll\": 0.8253676891326904,\n",
      "                \"shake\": 0.00023105381114874035\n",
      "            }\n",
      "        },\n",
      "        {\n",
      "            \"candidate\": \"roll\",\n",
      "            \"candidate_score\": 0.9932745099067688,\n",
      "            \"predictions\": {\n",
      "                \"draw-circle\": 0.0012826834572479129,\n",
      "                \"draw-cross\": 0.0002773854648694396,\n",
      "                \"fever\": 0.003824035171419382,\n",
      "                \"floss\": 0.001325876102782786,\n",
      "                \"roll\": 0.9932745099067688,\n",
      "                \"shake\": 1.5477929991902784e-05\n",
      "            }\n",
      "        },\n",
      "        {\n",
      "            \"candidate\": \"roll\",\n",
      "            \"candidate_score\": 0.9982752799987793,\n",
      "            \"predictions\": {\n",
      "                \"draw-circle\": 0.0003612475120462477,\n",
      "                \"draw-cross\": 0.0004677050746977329,\n",
      "                \"fever\": 3.267515421612188e-05,\n",
      "                \"floss\": 0.000857041566632688,\n",
      "                \"roll\": 0.9982752799987793,\n",
      "                \"shake\": 6.091051091061672e-06\n",
      "            }\n",
      "        },\n",
      "        {\n",
      "            \"candidate\": \"roll\",\n",
      "            \"candidate_score\": 0.9593981504440308,\n",
      "            \"predictions\": {\n",
      "                \"draw-circle\": 0.017552947625517845,\n",
      "                \"draw-cross\": 0.01639486849308014,\n",
      "                \"fever\": 0.0015684283571317792,\n",
      "                \"floss\": 0.0011172530939802527,\n",
      "                \"roll\": 0.9593981504440308,\n",
      "                \"shake\": 0.003968333825469017\n",
      "            }\n",
      "        },\n",
      "        {\n",
      "            \"candidate\": \"roll\",\n",
      "            \"candidate_score\": 0.9663004279136658,\n",
      "            \"predictions\": {\n",
      "                \"draw-circle\": 0.027382850646972656,\n",
      "                \"draw-cross\": 0.0017407225677743554,\n",
      "                \"fever\": 0.000516527914442122,\n",
      "                \"floss\": 0.00394481373950839,\n",
      "                \"roll\": 0.9663004279136658,\n",
      "                \"shake\": 0.00011470152094261721\n",
      "            }\n",
      "        }\n",
      "    ],\n",
      "    \"total\": 9\n",
      "}\n"
     ]
    }
   ],
   "source": [
    "import requests\n",
    "\n",
    "data = {\n",
    "    \"instances\": data_dance_raw['floss'][-5:] + data_dance_raw['roll'][-5:]\n",
    "}\n",
    "json_response = requests.post(\"http://localhost:5000/model/predict\", json=data, headers={\"Host\": 'localhost', \"Content-Type\":\"application/json\"})\n",
    "\n",
    "print(json.dumps(json_response.json(), indent=4))"
   ]
  },
  {
   "cell_type": "markdown",
   "metadata": {},
   "source": [
    "### Knative"
   ]
  },
  {
   "cell_type": "code",
   "execution_count": null,
   "metadata": {},
   "outputs": [],
   "source": [
    "%%bash\n",
    "\n",
    "oc start-build tf-serving --from-dir ."
   ]
  },
  {
   "cell_type": "code",
   "execution_count": null,
   "metadata": {},
   "outputs": [],
   "source": [
    "builds = !oc get builds\n",
    "latest = builds[-1].split()[0]\n",
    "\n",
    "!oc logs -f build.build.openshift.io/$latest"
   ]
  },
  {
   "cell_type": "code",
   "execution_count": null,
   "metadata": {},
   "outputs": [],
   "source": [
    "revision = int(dt.timestamp(dt.now()))\n",
    "\n",
    "!oc process tf-serving-knative -p REVISION=$revision | oc apply -f -"
   ]
  },
  {
   "cell_type": "code",
   "execution_count": null,
   "metadata": {},
   "outputs": [],
   "source": [
    "%%bash\n",
    "\n",
    "while oc get pods | grep tf-serving-knative | grep -v Running; do \n",
    "    oc get pods | grep tf-serving-knative\n",
    "    sleep 1\n",
    "done"
   ]
  },
  {
   "cell_type": "code",
   "execution_count": null,
   "metadata": {},
   "outputs": [],
   "source": [
    "%%bash --out KSERVICE_DOMAIN\n",
    "\n",
    "oc get kservice tf-serving-knative-demo -o jsonpath='{.status.domain}'"
   ]
  },
  {
   "cell_type": "code",
   "execution_count": null,
   "metadata": {},
   "outputs": [],
   "source": [
    "KSERVICE_DOMAIN"
   ]
  },
  {
   "cell_type": "code",
   "execution_count": null,
   "metadata": {
    "ExecuteTime": {
     "end_time": "2019-04-09T20:42:02.558315Z",
     "start_time": "2019-04-09T20:42:02.504768Z"
    }
   },
   "outputs": [],
   "source": [
    "import requests\n",
    "\n",
    "INGRESS_GATEWAY=\"istio-ingressgateway.istio-system.svc.cluster.local\"\n",
    "\n",
    "data = {\n",
    "  \"instances\": [\n",
    "      json.loads(Path('data/dance/floss/example.json').read_text())\n",
    "  ]\n",
    "}\n",
    "json_response = requests.post(\"http://%s/model/predict\" % INGRESS_GATEWAY, json=data, headers={\"Host\": KSERVICE_DOMAIN, \"Content-Type\":\"application/json\"})\n",
    "\n",
    "print(json.dumps(json_response.json(), indent=4))"
   ]
  }
 ],
 "metadata": {
  "kernelspec": {
   "display_name": "rh-summit-demo",
   "language": "python",
   "name": "rh-summit-demo"
  },
  "language_info": {
   "codemirror_mode": {
    "name": "ipython",
    "version": 3
   },
   "file_extension": ".py",
   "mimetype": "text/x-python",
   "name": "python",
   "nbconvert_exporter": "python",
   "pygments_lexer": "ipython3",
   "version": "3.6.6"
  },
  "varInspector": {
   "cols": {
    "lenName": 16,
    "lenType": 16,
    "lenVar": 40
   },
   "kernels_config": {
    "python": {
     "delete_cmd_postfix": "",
     "delete_cmd_prefix": "del ",
     "library": "var_list.py",
     "varRefreshCmd": "print(var_dic_list())"
    },
    "r": {
     "delete_cmd_postfix": ") ",
     "delete_cmd_prefix": "rm(",
     "library": "var_list.r",
     "varRefreshCmd": "cat(var_dic_list()) "
    }
   },
   "types_to_exclude": [
    "module",
    "function",
    "builtin_function_or_method",
    "instance",
    "_Feature"
   ],
   "window_display": false
  }
 },
 "nbformat": 4,
 "nbformat_minor": 2
}
